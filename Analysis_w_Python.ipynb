{
 "cells": [
  {
   "cell_type": "code",
   "execution_count": 1,
   "id": "d7650a1b",
   "metadata": {},
   "outputs": [
    {
     "name": "stdout",
     "output_type": "stream",
     "text": [
      "Collecting package metadata (current_repodata.json): ...working... done\n",
      "Solving environment: ...working... done\n",
      "\n",
      "# All requested packages already installed.\n",
      "\n",
      "\n",
      "Note: you may need to restart the kernel to use updated packages.\n"
     ]
    }
   ],
   "source": [
    "conda install pandas"
   ]
  },
  {
   "cell_type": "code",
   "execution_count": 2,
   "id": "e1226770",
   "metadata": {},
   "outputs": [
    {
     "name": "stdout",
     "output_type": "stream",
     "text": [
      "Collecting package metadata (current_repodata.json): ...working... done\n",
      "Solving environment: ...working... done\n",
      "\n",
      "# All requested packages already installed.\n",
      "\n",
      "\n",
      "Note: you may need to restart the kernel to use updated packages.\n"
     ]
    }
   ],
   "source": [
    "conda install numpy"
   ]
  },
  {
   "cell_type": "code",
   "execution_count": 3,
   "id": "89329528",
   "metadata": {},
   "outputs": [
    {
     "name": "stdout",
     "output_type": "stream",
     "text": [
      "Collecting package metadata (current_repodata.json): ...working... done\n",
      "Solving environment: ...working... done\n",
      "\n",
      "# All requested packages already installed.\n",
      "\n",
      "\n",
      "Note: you may need to restart the kernel to use updated packages.\n"
     ]
    }
   ],
   "source": [
    "conda install seaborn"
   ]
  },
  {
   "cell_type": "code",
   "execution_count": 4,
   "id": "b35815a5",
   "metadata": {},
   "outputs": [
    {
     "name": "stdout",
     "output_type": "stream",
     "text": [
      "Collecting package metadata (current_repodata.json): ...working... done\n",
      "Solving environment: ...working... done\n",
      "\n",
      "# All requested packages already installed.\n",
      "\n",
      "\n",
      "Note: you may need to restart the kernel to use updated packages.\n"
     ]
    }
   ],
   "source": [
    "conda install matplotlib"
   ]
  },
  {
   "cell_type": "code",
   "execution_count": 5,
   "id": "810910b9",
   "metadata": {},
   "outputs": [],
   "source": [
    "import pandas as pd\n",
    "import numpy as np\n",
    "import seaborn as sns\n",
    "import matplotlib.pyplot as plt"
   ]
  },
  {
   "cell_type": "code",
   "execution_count": 6,
   "id": "92e71d9b",
   "metadata": {},
   "outputs": [],
   "source": [
    "ted = pd.read_csv(\"ted.csv\")"
   ]
  },
  {
   "cell_type": "code",
   "execution_count": 7,
   "id": "463c0a12",
   "metadata": {},
   "outputs": [
    {
     "data": {
      "text/html": [
       "<div>\n",
       "<style scoped>\n",
       "    .dataframe tbody tr th:only-of-type {\n",
       "        vertical-align: middle;\n",
       "    }\n",
       "\n",
       "    .dataframe tbody tr th {\n",
       "        vertical-align: top;\n",
       "    }\n",
       "\n",
       "    .dataframe thead th {\n",
       "        text-align: right;\n",
       "    }\n",
       "</style>\n",
       "<table border=\"1\" class=\"dataframe\">\n",
       "  <thead>\n",
       "    <tr style=\"text-align: right;\">\n",
       "      <th></th>\n",
       "      <th>title</th>\n",
       "      <th>author</th>\n",
       "      <th>date</th>\n",
       "      <th>views</th>\n",
       "      <th>likes</th>\n",
       "      <th>link</th>\n",
       "    </tr>\n",
       "  </thead>\n",
       "  <tbody>\n",
       "    <tr>\n",
       "      <th>0</th>\n",
       "      <td>Climate action needs new frontline leadership</td>\n",
       "      <td>Ozawa Bineshi Albert</td>\n",
       "      <td>December 2021</td>\n",
       "      <td>404000</td>\n",
       "      <td>12000</td>\n",
       "      <td>https://ted.com/talks/ozawa_bineshi_albert_cli...</td>\n",
       "    </tr>\n",
       "    <tr>\n",
       "      <th>1</th>\n",
       "      <td>The dark history of the overthrow of Hawaii</td>\n",
       "      <td>Sydney Iaukea</td>\n",
       "      <td>February 2022</td>\n",
       "      <td>214000</td>\n",
       "      <td>6400</td>\n",
       "      <td>https://ted.com/talks/sydney_iaukea_the_dark_h...</td>\n",
       "    </tr>\n",
       "    <tr>\n",
       "      <th>2</th>\n",
       "      <td>How play can spark new ideas for your business</td>\n",
       "      <td>Martin Reeves</td>\n",
       "      <td>September 2021</td>\n",
       "      <td>412000</td>\n",
       "      <td>12000</td>\n",
       "      <td>https://ted.com/talks/martin_reeves_how_play_c...</td>\n",
       "    </tr>\n",
       "    <tr>\n",
       "      <th>3</th>\n",
       "      <td>Why is China appointing judges to combat clima...</td>\n",
       "      <td>James K. Thornton</td>\n",
       "      <td>October 2021</td>\n",
       "      <td>427000</td>\n",
       "      <td>12000</td>\n",
       "      <td>https://ted.com/talks/james_k_thornton_why_is_...</td>\n",
       "    </tr>\n",
       "    <tr>\n",
       "      <th>4</th>\n",
       "      <td>Cement's carbon problem — and 2 ways to fix it</td>\n",
       "      <td>Mahendra Singhi</td>\n",
       "      <td>October 2021</td>\n",
       "      <td>2400</td>\n",
       "      <td>72</td>\n",
       "      <td>https://ted.com/talks/mahendra_singhi_cement_s...</td>\n",
       "    </tr>\n",
       "  </tbody>\n",
       "</table>\n",
       "</div>"
      ],
      "text/plain": [
       "                                               title                author  \\\n",
       "0      Climate action needs new frontline leadership  Ozawa Bineshi Albert   \n",
       "1        The dark history of the overthrow of Hawaii         Sydney Iaukea   \n",
       "2     How play can spark new ideas for your business         Martin Reeves   \n",
       "3  Why is China appointing judges to combat clima...     James K. Thornton   \n",
       "4     Cement's carbon problem — and 2 ways to fix it       Mahendra Singhi   \n",
       "\n",
       "             date   views  likes  \\\n",
       "0   December 2021  404000  12000   \n",
       "1   February 2022  214000   6400   \n",
       "2  September 2021  412000  12000   \n",
       "3    October 2021  427000  12000   \n",
       "4    October 2021    2400     72   \n",
       "\n",
       "                                                link  \n",
       "0  https://ted.com/talks/ozawa_bineshi_albert_cli...  \n",
       "1  https://ted.com/talks/sydney_iaukea_the_dark_h...  \n",
       "2  https://ted.com/talks/martin_reeves_how_play_c...  \n",
       "3  https://ted.com/talks/james_k_thornton_why_is_...  \n",
       "4  https://ted.com/talks/mahendra_singhi_cement_s...  "
      ]
     },
     "execution_count": 7,
     "metadata": {},
     "output_type": "execute_result"
    }
   ],
   "source": [
    "ted.head()"
   ]
  },
  {
   "cell_type": "code",
   "execution_count": 8,
   "id": "4a4b42e9",
   "metadata": {},
   "outputs": [
    {
     "name": "stdout",
     "output_type": "stream",
     "text": [
      "<class 'pandas.core.frame.DataFrame'>\n",
      "RangeIndex: 5440 entries, 0 to 5439\n",
      "Data columns (total 6 columns):\n",
      " #   Column  Non-Null Count  Dtype \n",
      "---  ------  --------------  ----- \n",
      " 0   title   5440 non-null   object\n",
      " 1   author  5439 non-null   object\n",
      " 2   date    5440 non-null   object\n",
      " 3   views   5440 non-null   int64 \n",
      " 4   likes   5440 non-null   int64 \n",
      " 5   link    5440 non-null   object\n",
      "dtypes: int64(2), object(4)\n",
      "memory usage: 255.1+ KB\n"
     ]
    }
   ],
   "source": [
    "ted.info()"
   ]
  },
  {
   "cell_type": "code",
   "execution_count": 9,
   "id": "9fba0c83",
   "metadata": {},
   "outputs": [
    {
     "data": {
      "text/html": [
       "<div>\n",
       "<style scoped>\n",
       "    .dataframe tbody tr th:only-of-type {\n",
       "        vertical-align: middle;\n",
       "    }\n",
       "\n",
       "    .dataframe tbody tr th {\n",
       "        vertical-align: top;\n",
       "    }\n",
       "\n",
       "    .dataframe thead th {\n",
       "        text-align: right;\n",
       "    }\n",
       "</style>\n",
       "<table border=\"1\" class=\"dataframe\">\n",
       "  <thead>\n",
       "    <tr style=\"text-align: right;\">\n",
       "      <th></th>\n",
       "      <th>title</th>\n",
       "      <th>author</th>\n",
       "      <th>date</th>\n",
       "      <th>link</th>\n",
       "    </tr>\n",
       "  </thead>\n",
       "  <tbody>\n",
       "    <tr>\n",
       "      <th>count</th>\n",
       "      <td>5440</td>\n",
       "      <td>5439</td>\n",
       "      <td>5440</td>\n",
       "      <td>5440</td>\n",
       "    </tr>\n",
       "    <tr>\n",
       "      <th>unique</th>\n",
       "      <td>5440</td>\n",
       "      <td>4443</td>\n",
       "      <td>200</td>\n",
       "      <td>5440</td>\n",
       "    </tr>\n",
       "    <tr>\n",
       "      <th>top</th>\n",
       "      <td>Climate action needs new frontline leadership</td>\n",
       "      <td>Alex Gendler</td>\n",
       "      <td>April 2018</td>\n",
       "      <td>https://ted.com/talks/ozawa_bineshi_albert_cli...</td>\n",
       "    </tr>\n",
       "    <tr>\n",
       "      <th>freq</th>\n",
       "      <td>1</td>\n",
       "      <td>45</td>\n",
       "      <td>127</td>\n",
       "      <td>1</td>\n",
       "    </tr>\n",
       "  </tbody>\n",
       "</table>\n",
       "</div>"
      ],
      "text/plain": [
       "                                                title        author  \\\n",
       "count                                            5440          5439   \n",
       "unique                                           5440          4443   \n",
       "top     Climate action needs new frontline leadership  Alex Gendler   \n",
       "freq                                                1            45   \n",
       "\n",
       "              date                                               link  \n",
       "count         5440                                               5440  \n",
       "unique         200                                               5440  \n",
       "top     April 2018  https://ted.com/talks/ozawa_bineshi_albert_cli...  \n",
       "freq           127                                                  1  "
      ]
     },
     "execution_count": 9,
     "metadata": {},
     "output_type": "execute_result"
    }
   ],
   "source": [
    "ted.describe(include=\"object\")"
   ]
  },
  {
   "cell_type": "code",
   "execution_count": 10,
   "id": "8749364b",
   "metadata": {},
   "outputs": [
    {
     "data": {
      "text/plain": [
       "title     0\n",
       "author    1\n",
       "date      0\n",
       "views     0\n",
       "likes     0\n",
       "link      0\n",
       "dtype: int64"
      ]
     },
     "execution_count": 10,
     "metadata": {},
     "output_type": "execute_result"
    }
   ],
   "source": [
    "# Check for null data\n",
    "ted.isnull().sum()"
   ]
  },
  {
   "cell_type": "code",
   "execution_count": 11,
   "id": "a7b86093",
   "metadata": {},
   "outputs": [],
   "source": [
    "# Remove null data\n",
    "ted.dropna(inplace=True)"
   ]
  },
  {
   "cell_type": "code",
   "execution_count": 12,
   "id": "fe8338aa",
   "metadata": {},
   "outputs": [
    {
     "data": {
      "text/html": [
       "<div>\n",
       "<style scoped>\n",
       "    .dataframe tbody tr th:only-of-type {\n",
       "        vertical-align: middle;\n",
       "    }\n",
       "\n",
       "    .dataframe tbody tr th {\n",
       "        vertical-align: top;\n",
       "    }\n",
       "\n",
       "    .dataframe thead th {\n",
       "        text-align: right;\n",
       "    }\n",
       "</style>\n",
       "<table border=\"1\" class=\"dataframe\">\n",
       "  <thead>\n",
       "    <tr style=\"text-align: right;\">\n",
       "      <th></th>\n",
       "      <th>author</th>\n",
       "      <th>title</th>\n",
       "      <th>views</th>\n",
       "      <th>likes</th>\n",
       "    </tr>\n",
       "  </thead>\n",
       "  <tbody>\n",
       "    <tr>\n",
       "      <th>5436</th>\n",
       "      <td>Sir Ken Robinson</td>\n",
       "      <td>Do schools kill creativity?</td>\n",
       "      <td>72000000</td>\n",
       "      <td>2100000</td>\n",
       "    </tr>\n",
       "    <tr>\n",
       "      <th>4084</th>\n",
       "      <td>Amy Cuddy</td>\n",
       "      <td>Your body language may shape who you are</td>\n",
       "      <td>64000000</td>\n",
       "      <td>1900000</td>\n",
       "    </tr>\n",
       "    <tr>\n",
       "      <th>2958</th>\n",
       "      <td>Tim Urban</td>\n",
       "      <td>Inside the mind of a master procrastinator</td>\n",
       "      <td>60000000</td>\n",
       "      <td>1800000</td>\n",
       "    </tr>\n",
       "    <tr>\n",
       "      <th>4765</th>\n",
       "      <td>Simon Sinek</td>\n",
       "      <td>How great leaders inspire action</td>\n",
       "      <td>57000000</td>\n",
       "      <td>1700000</td>\n",
       "    </tr>\n",
       "    <tr>\n",
       "      <th>4605</th>\n",
       "      <td>Brené Brown</td>\n",
       "      <td>The power of vulnerability</td>\n",
       "      <td>56000000</td>\n",
       "      <td>1700000</td>\n",
       "    </tr>\n",
       "    <tr>\n",
       "      <th>3504</th>\n",
       "      <td>Julian Treasure</td>\n",
       "      <td>How to speak so that people want to listen</td>\n",
       "      <td>49000000</td>\n",
       "      <td>1400000</td>\n",
       "    </tr>\n",
       "    <tr>\n",
       "      <th>2168</th>\n",
       "      <td>Sam Berns</td>\n",
       "      <td>My philosophy for a happy life</td>\n",
       "      <td>43000000</td>\n",
       "      <td>1300000</td>\n",
       "    </tr>\n",
       "    <tr>\n",
       "      <th>3251</th>\n",
       "      <td>Bill Gates</td>\n",
       "      <td>The next outbreak? We're not ready</td>\n",
       "      <td>43000000</td>\n",
       "      <td>1300000</td>\n",
       "    </tr>\n",
       "    <tr>\n",
       "      <th>3017</th>\n",
       "      <td>Robert Waldinger</td>\n",
       "      <td>What makes a good life? Lessons from the longe...</td>\n",
       "      <td>41000000</td>\n",
       "      <td>1200000</td>\n",
       "    </tr>\n",
       "    <tr>\n",
       "      <th>3994</th>\n",
       "      <td>Cameron Russell</td>\n",
       "      <td>Looks aren't everything. Believe me, I'm a model.</td>\n",
       "      <td>38000000</td>\n",
       "      <td>1100000</td>\n",
       "    </tr>\n",
       "  </tbody>\n",
       "</table>\n",
       "</div>"
      ],
      "text/plain": [
       "                author                                              title  \\\n",
       "5436  Sir Ken Robinson                        Do schools kill creativity?   \n",
       "4084         Amy Cuddy           Your body language may shape who you are   \n",
       "2958         Tim Urban         Inside the mind of a master procrastinator   \n",
       "4765       Simon Sinek                   How great leaders inspire action   \n",
       "4605       Brené Brown                         The power of vulnerability   \n",
       "3504   Julian Treasure         How to speak so that people want to listen   \n",
       "2168         Sam Berns                     My philosophy for a happy life   \n",
       "3251        Bill Gates                 The next outbreak? We're not ready   \n",
       "3017  Robert Waldinger  What makes a good life? Lessons from the longe...   \n",
       "3994   Cameron Russell  Looks aren't everything. Believe me, I'm a model.   \n",
       "\n",
       "         views    likes  \n",
       "5436  72000000  2100000  \n",
       "4084  64000000  1900000  \n",
       "2958  60000000  1800000  \n",
       "4765  57000000  1700000  \n",
       "4605  56000000  1700000  \n",
       "3504  49000000  1400000  \n",
       "2168  43000000  1300000  \n",
       "3251  43000000  1300000  \n",
       "3017  41000000  1200000  \n",
       "3994  38000000  1100000  "
      ]
     },
     "execution_count": 12,
     "metadata": {},
     "output_type": "execute_result"
    }
   ],
   "source": [
    "# The top 10 most popular TED Talks videos\n",
    "top_speech = ted.sort_values(by='views', ascending = False) [['author', 'title','views','likes']].head(10)\n",
    "top_speech"
   ]
  },
  {
   "cell_type": "code",
   "execution_count": 13,
   "id": "a1888e54",
   "metadata": {},
   "outputs": [
    {
     "data": {
      "image/png": "[encoded data removed]",
      "text/plain": [
       "<Figure size 432x288 with 1 Axes>"
      ]
     },
     "metadata": {
      "needs_background": "light"
     },
     "output_type": "display_data"
    }
   ],
   "source": [
    "top_speech.plot(kind='barh', x = 'title', y = 'views', color = 'maroon')\n",
    "plt.show()"
   ]
  },
  {
   "cell_type": "code",
   "execution_count": 14,
   "id": "c4cec1f4",
   "metadata": {},
   "outputs": [
    {
     "data": {
      "text/html": [
       "<div>\n",
       "<style scoped>\n",
       "    .dataframe tbody tr th:only-of-type {\n",
       "        vertical-align: middle;\n",
       "    }\n",
       "\n",
       "    .dataframe tbody tr th {\n",
       "        vertical-align: top;\n",
       "    }\n",
       "\n",
       "    .dataframe thead th {\n",
       "        text-align: right;\n",
       "    }\n",
       "</style>\n",
       "<table border=\"1\" class=\"dataframe\">\n",
       "  <thead>\n",
       "    <tr style=\"text-align: right;\">\n",
       "      <th></th>\n",
       "      <th>views</th>\n",
       "      <th>likes</th>\n",
       "    </tr>\n",
       "    <tr>\n",
       "      <th>author</th>\n",
       "      <th></th>\n",
       "      <th></th>\n",
       "    </tr>\n",
       "  </thead>\n",
       "  <tbody>\n",
       "    <tr>\n",
       "      <th>Alex Gendler</th>\n",
       "      <td>187196000</td>\n",
       "      <td>5691000</td>\n",
       "    </tr>\n",
       "    <tr>\n",
       "      <th>Sir Ken Robinson</th>\n",
       "      <td>95654000</td>\n",
       "      <td>2833600</td>\n",
       "    </tr>\n",
       "    <tr>\n",
       "      <th>Bill Gates</th>\n",
       "      <td>77800000</td>\n",
       "      <td>2349000</td>\n",
       "    </tr>\n",
       "    <tr>\n",
       "      <th>Simon Sinek</th>\n",
       "      <td>74800000</td>\n",
       "      <td>2246000</td>\n",
       "    </tr>\n",
       "    <tr>\n",
       "      <th>Brené Brown</th>\n",
       "      <td>72000000</td>\n",
       "      <td>2204000</td>\n",
       "    </tr>\n",
       "    <tr>\n",
       "      <th>Julian Treasure</th>\n",
       "      <td>64300000</td>\n",
       "      <td>1870000</td>\n",
       "    </tr>\n",
       "    <tr>\n",
       "      <th>Amy Cuddy</th>\n",
       "      <td>64000000</td>\n",
       "      <td>1900000</td>\n",
       "    </tr>\n",
       "    <tr>\n",
       "      <th>Tim Urban</th>\n",
       "      <td>60000000</td>\n",
       "      <td>1800000</td>\n",
       "    </tr>\n",
       "    <tr>\n",
       "      <th>Iseult Gillespie</th>\n",
       "      <td>54998000</td>\n",
       "      <td>1660900</td>\n",
       "    </tr>\n",
       "    <tr>\n",
       "      <th>Mia Nacamulli</th>\n",
       "      <td>44174000</td>\n",
       "      <td>1395000</td>\n",
       "    </tr>\n",
       "  </tbody>\n",
       "</table>\n",
       "</div>"
      ],
      "text/plain": [
       "                      views    likes\n",
       "author                              \n",
       "Alex Gendler      187196000  5691000\n",
       "Sir Ken Robinson   95654000  2833600\n",
       "Bill Gates         77800000  2349000\n",
       "Simon Sinek        74800000  2246000\n",
       "Brené Brown        72000000  2204000\n",
       "Julian Treasure    64300000  1870000\n",
       "Amy Cuddy          64000000  1900000\n",
       "Tim Urban          60000000  1800000\n",
       "Iseult Gillespie   54998000  1660900\n",
       "Mia Nacamulli      44174000  1395000"
      ]
     },
     "execution_count": 14,
     "metadata": {},
     "output_type": "execute_result"
    }
   ],
   "source": [
    "# Top 10 authors in terms of number of views & likes\n",
    "top_author = ted.groupby(['author']).sum().sort_values('views', ascending = False).head(10)\n",
    "top_author"
   ]
  },
  {
   "cell_type": "code",
   "execution_count": 16,
   "id": "5821f87f",
   "metadata": {},
   "outputs": [
    {
     "data": {
      "text/html": [
       "<div>\n",
       "<style scoped>\n",
       "    .dataframe tbody tr th:only-of-type {\n",
       "        vertical-align: middle;\n",
       "    }\n",
       "\n",
       "    .dataframe tbody tr th {\n",
       "        vertical-align: top;\n",
       "    }\n",
       "\n",
       "    .dataframe thead th {\n",
       "        text-align: right;\n",
       "    }\n",
       "</style>\n",
       "<table border=\"1\" class=\"dataframe\">\n",
       "  <thead>\n",
       "    <tr style=\"text-align: right;\">\n",
       "      <th></th>\n",
       "      <th>author</th>\n",
       "      <th>speeches</th>\n",
       "    </tr>\n",
       "  </thead>\n",
       "  <tbody>\n",
       "    <tr>\n",
       "      <th>0</th>\n",
       "      <td>Alex Gendler</td>\n",
       "      <td>45</td>\n",
       "    </tr>\n",
       "    <tr>\n",
       "      <th>1</th>\n",
       "      <td>Iseult Gillespie</td>\n",
       "      <td>33</td>\n",
       "    </tr>\n",
       "    <tr>\n",
       "      <th>2</th>\n",
       "      <td>Matt Walker</td>\n",
       "      <td>18</td>\n",
       "    </tr>\n",
       "    <tr>\n",
       "      <th>3</th>\n",
       "      <td>Alex Rosenthal</td>\n",
       "      <td>15</td>\n",
       "    </tr>\n",
       "    <tr>\n",
       "      <th>4</th>\n",
       "      <td>Elizabeth Cox</td>\n",
       "      <td>13</td>\n",
       "    </tr>\n",
       "    <tr>\n",
       "      <th>5</th>\n",
       "      <td>Emma Bryce</td>\n",
       "      <td>12</td>\n",
       "    </tr>\n",
       "    <tr>\n",
       "      <th>6</th>\n",
       "      <td>Juan Enriquez</td>\n",
       "      <td>11</td>\n",
       "    </tr>\n",
       "    <tr>\n",
       "      <th>7</th>\n",
       "      <td>Daniel Finkel</td>\n",
       "      <td>11</td>\n",
       "    </tr>\n",
       "    <tr>\n",
       "      <th>8</th>\n",
       "      <td>Jen Gunter</td>\n",
       "      <td>9</td>\n",
       "    </tr>\n",
       "    <tr>\n",
       "      <th>9</th>\n",
       "      <td>Greg Gage</td>\n",
       "      <td>9</td>\n",
       "    </tr>\n",
       "  </tbody>\n",
       "</table>\n",
       "</div>"
      ],
      "text/plain": [
       "             author  speeches\n",
       "0      Alex Gendler        45\n",
       "1  Iseult Gillespie        33\n",
       "2       Matt Walker        18\n",
       "3    Alex Rosenthal        15\n",
       "4     Elizabeth Cox        13\n",
       "5        Emma Bryce        12\n",
       "6     Juan Enriquez        11\n",
       "7     Daniel Finkel        11\n",
       "8        Jen Gunter         9\n",
       "9         Greg Gage         9"
      ]
     },
     "execution_count": 16,
     "metadata": {},
     "output_type": "execute_result"
    }
   ],
   "source": [
    "# Top 10 author with the most speeches\n",
    "num_speeches = ted['author'].value_counts().reset_index()\n",
    "num_speeches.columns = ['author', 'speeches']\n",
    "num_speeches = num_speeches.sort_values(by = 'speeches', ascending = False).head(10)\n",
    "num_speeches"
   ]
  },
  {
   "cell_type": "code",
   "execution_count": 18,
   "id": "79c08af9",
   "metadata": {},
   "outputs": [
    {
     "data": {
      "text/plain": [
       "Text(0.5, 1.0, 'Top 10 authors with the most speeches')"
      ]
     },
     "execution_count": 18,
     "metadata": {},
     "output_type": "execute_result"
    },
    {
     "data": {
      "image/png": "[encoded data removed]",
      "text/plain": [
       "<Figure size 432x288 with 1 Axes>"
      ]
     },
     "metadata": {
      "needs_background": "light"
     },
     "output_type": "display_data"
    }
   ],
   "source": [
    "chart_speeches = sns.barplot (data = num_speeches, x = 'speeches', y = 'author')\n",
    "plt.title(\"Top 10 authors with the most speeches\")"
   ]
  },
  {
   "cell_type": "code",
   "execution_count": 19,
   "id": "bc259537",
   "metadata": {},
   "outputs": [],
   "source": [
    "# Seperate 'date' column into 'month' & 'year' columns\n",
    "def getmonth(mylist):\n",
    "    monthlist = 'January February March April May June July August September October November December'.split()\n",
    "    month = mylist[0].split()[0]\n",
    "    return monthlist.index(month)+1\n",
    "\n",
    "def getyear(mylist):\n",
    "    year = int(mylist[0].split()[1])\n",
    "    return year\n",
    "    \n",
    "ted['month'] = ted[['date']].apply(getmonth, axis=1)\n",
    "ted['year'] = ted[['date']].apply(getyear, axis=1)"
   ]
  },
  {
   "cell_type": "code",
   "execution_count": 20,
   "id": "72ebcbce",
   "metadata": {},
   "outputs": [],
   "source": [
    "# Remove 'date' column\n",
    "ted.drop('date', axis=1, inplace=True)"
   ]
  },
  {
   "cell_type": "code",
   "execution_count": 21,
   "id": "49b087e7",
   "metadata": {},
   "outputs": [
    {
     "data": {
      "text/plain": [
       "Text(0.5, 1.0, 'Number of speeches per year')"
      ]
     },
     "execution_count": 21,
     "metadata": {},
     "output_type": "execute_result"
    },
    {
     "data": {
      "image/png": "[encoded data removed]",
      "text/plain": [
       "<Figure size 432x288 with 1 Axes>"
      ]
     },
     "metadata": {
      "needs_background": "light"
     },
     "output_type": "display_data"
    }
   ],
   "source": [
    "# Number of speeches per year\n",
    "data_year = ted.year.value_counts().sort_index()\n",
    "data_year.plot(kind = 'bar')\n",
    "plt.title(\"Number of speeches per year\")"
   ]
  },
  {
   "cell_type": "code",
   "execution_count": 22,
   "id": "b12755fa",
   "metadata": {},
   "outputs": [
    {
     "data": {
      "text/plain": [
       "Text(0.5, 1.0, 'Number of speeches per month')"
      ]
     },
     "execution_count": 22,
     "metadata": {},
     "output_type": "execute_result"
    },
    {
     "data": {
      "image/png": "[encoded data removed]",
      "text/plain": [
       "<Figure size 432x288 with 1 Axes>"
      ]
     },
     "metadata": {
      "needs_background": "light"
     },
     "output_type": "display_data"
    }
   ],
   "source": [
    "# Number of speeches per month\n",
    "data_month = ted.month.value_counts().sort_index()\n",
    "data_month.plot(kind = 'bar')\n",
    "plt.title(\"Number of speeches per month\")"
   ]
  },
  {
   "cell_type": "code",
   "execution_count": 23,
   "id": "3bde2105",
   "metadata": {},
   "outputs": [],
   "source": [
    "ted.to_csv('ted_python.csv')"
   ]
  },
  {
   "cell_type": "code",
   "execution_count": null,
   "id": "9c468e4b",
   "metadata": {},
   "outputs": [],
   "source": []
  }
 ],
 "metadata": {
  "kernelspec": {
   "display_name": "Python 3 (ipykernel)",
   "language": "python",
   "name": "python3"
  },
  "language_info": {
   "codemirror_mode": {
    "name": "ipython",
    "version": 3
   },
   "file_extension": ".py",
   "mimetype": "text/x-python",
   "name": "python",
   "nbconvert_exporter": "python",
   "pygments_lexer": "ipython3",
   "version": "3.7.13"
  }
 },
 "nbformat": 4,
 "nbformat_minor": 5
}
